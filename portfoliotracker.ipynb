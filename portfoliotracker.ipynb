{
  "nbformat": 4,
  "nbformat_minor": 0,
  "metadata": {
    "colab": {
      "provenance": [],
      "authorship_tag": "ABX9TyMooo0/q1AVjGg3FeTsntAL",
      "include_colab_link": true
    },
    "kernelspec": {
      "name": "python3",
      "display_name": "Python 3"
    },
    "language_info": {
      "name": "python"
    }
  },
  "cells": [
    {
      "cell_type": "markdown",
      "metadata": {
        "id": "view-in-github",
        "colab_type": "text"
      },
      "source": [
        "<a href=\"https://colab.research.google.com/github/Tejcodings/portfolio_tracker/blob/main/portfoliotracker.ipynb\" target=\"_parent\"><img src=\"https://colab.research.google.com/assets/colab-badge.svg\" alt=\"Open In Colab\"/></a>"
      ]
    },
    {
      "cell_type": "code",
      "execution_count": 7,
      "metadata": {
        "colab": {
          "base_uri": "https://localhost:8080/"
        },
        "id": "9youHb5NKlJC",
        "outputId": "3504d135-5068-4b77-ca9d-de7f4badab36"
      },
      "outputs": [
        {
          "output_type": "stream",
          "name": "stdout",
          "text": [
            "Total value of the portfolio : 5322.56\n",
            "Top performing stock : goog\n"
          ]
        }
      ],
      "source": [
        "portfolio     = {\n",
        "\n",
        "                     'aapl': 170.5,\n",
        "                     'goog': 2800.43,\n",
        "                     'tsla': 150.67,\n",
        "                     'infy': 2200.96\n",
        "}\n",
        "\n",
        "#calculating total value of portfolio\n",
        "\n",
        "total_value = sum(portfolio.values())\n",
        "print(f\"Total value of the portfolio :\" ,round(total_value,2))\n",
        "\n",
        "#finding top performing stock\n",
        "\n",
        "top_stock = max(portfolio,key = portfolio.get)\n",
        "print(f\"Top performing stock :\",top_stock )\n"
      ]
    },
    {
      "cell_type": "code",
      "source": [
        "#finding high value stocks i.e. more then 1000rs value stocks\n",
        "\n",
        "high_value_stock = [ticker for ticker in portfolio if portfolio[ticker]>1000]\n",
        "\n",
        "print(f\"High value stocks :\",high_value_stock)"
      ],
      "metadata": {
        "colab": {
          "base_uri": "https://localhost:8080/"
        },
        "id": "Mwl5HuO51_rc",
        "outputId": "e19de767-0cf8-4e9b-822d-88bcb01b236f"
      },
      "execution_count": 8,
      "outputs": [
        {
          "output_type": "stream",
          "name": "stdout",
          "text": [
            "High value stocks : ['goog', 'infy']\n"
          ]
        }
      ]
    },
    {
      "cell_type": "code",
      "source": [
        "#updating ticker value\n",
        "\n",
        "def stock_price_update(ticker,new_price):\n",
        "  if ticker in portfolio:\n",
        "    portfolio[ticker]=new_price\n",
        "    print(f\"{ticker} updated to new price {new_price}\")\n",
        "  else:\n",
        "    print(f\"{ticker} not found in portfolio\")\n",
        "\n"
      ],
      "metadata": {
        "id": "wgQcj0AE4WaC"
      },
      "execution_count": 11,
      "outputs": []
    },
    {
      "cell_type": "markdown",
      "source": [
        "wrap it up all in once script\n"
      ],
      "metadata": {
        "id": "zA9GPXPh5YBJ"
      }
    },
    {
      "cell_type": "code",
      "source": [
        "def show_portfolio_summary():\n",
        "  total_value = sum(portfolio.values())\n",
        "  top_stock = max(portfolio,key = portfolio.get)\n",
        "  high_value_stock = [ticker for ticker in portfolio if portfolio[ticker]>1000]\n",
        "  print(f\"\\nPortfolio Summary\")\n",
        "  print(f\"Total value of the portfolio :\" ,round(total_value,2))\n",
        "  print(f\"Top performing stock :\",top_stock )\n",
        "  print(f\"High value stocks :\",high_value_stock)\n",
        "\n",
        "\n",
        "show_portfolio_summary()\n",
        "stock_price_update('infy',1200)\n",
        "show_portfolio_summary()\n"
      ],
      "metadata": {
        "colab": {
          "base_uri": "https://localhost:8080/"
        },
        "id": "AawxihPE5ecj",
        "outputId": "b390e967-cf8c-4081-bc74-3c536d2e64a8"
      },
      "execution_count": 12,
      "outputs": [
        {
          "output_type": "stream",
          "name": "stdout",
          "text": [
            "\n",
            "Portfolio Summary\n",
            "Total value of the portfolio : 5322.56\n",
            "Top performing stock : goog\n",
            "High value stocks : ['goog', 'infy']\n",
            "infy updated to new price 1200\n"
          ]
        }
      ]
    }
  ]
}