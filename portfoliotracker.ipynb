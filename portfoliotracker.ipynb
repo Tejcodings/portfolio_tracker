{
  "nbformat": 4,
  "nbformat_minor": 0,
  "metadata": {
    "colab": {
      "provenance": [],
      "authorship_tag": "ABX9TyPZ2hqU3jI51tXHnGWI+t/h",
      "include_colab_link": true
    },
    "kernelspec": {
      "name": "python3",
      "display_name": "Python 3"
    },
    "language_info": {
      "name": "python"
    }
  },
  "cells": [
    {
      "cell_type": "markdown",
      "metadata": {
        "id": "view-in-github",
        "colab_type": "text"
      },
      "source": [
        "<a href=\"https://colab.research.google.com/github/Tejcodings/portfolio_tracker/blob/main/portfoliotracker.ipynb\" target=\"_parent\"><img src=\"https://colab.research.google.com/assets/colab-badge.svg\" alt=\"Open In Colab\"/></a>"
      ]
    },
    {
      "cell_type": "code",
      "execution_count": 7,
      "metadata": {
        "colab": {
          "base_uri": "https://localhost:8080/"
        },
        "id": "9youHb5NKlJC",
        "outputId": "3504d135-5068-4b77-ca9d-de7f4badab36"
      },
      "outputs": [
        {
          "output_type": "stream",
          "name": "stdout",
          "text": [
            "Total value of the portfolio : 5322.56\n",
            "Top performing stock : goog\n"
          ]
        }
      ],
      "source": [
        "portfolio     = {\n",
        "\n",
        "                     'aapl':  170.5,\n",
        "                     'goog': 2800.43,\n",
        "                     'tsla': 150.67,\n",
        "                     'infy': 2200.96\n",
        "}\n",
        "\n",
        "#calculating total value of portfolio\n",
        "\n",
        "total_value = sum(portfolio.values())\n",
        "print(f\"Total value of the portfolio :\" ,round(total_value,2))\n",
        "\n",
        "#finding top performing stock\n",
        "\n",
        "top_stock = max(portfolio,key = portfolio.get)\n",
        "print(f\"Top performing stock :\",top_stock )\n"
      ]
    },
    {
      "cell_type": "code",
      "source": [
        "#finding high value stocks i.e. more then 1000rs value stocks\n",
        "\n",
        "high_value_stock = [ticker for ticker in portfolio if portfolio[ticker]>1000]\n",
        "\n",
        "print(f\"High value stocks :\",high_value_stock)"
      ],
      "metadata": {
        "colab": {
          "base_uri": "https://localhost:8080/"
        },
        "id": "Mwl5HuO51_rc",
        "outputId": "e19de767-0cf8-4e9b-822d-88bcb01b236f"
      },
      "execution_count": 8,
      "outputs": [
        {
          "output_type": "stream",
          "name": "stdout",
          "text": [
            "High value stocks : ['goog', 'infy']\n"
          ]
        }
      ]
    },
    {
      "cell_type": "code",
      "source": [
        "#updating ticker value\n",
        "\n",
        "def stock_price_update(ticker,new_price):\n",
        "  if ticker in portfolio:\n",
        "    portfolio[ticker]=new_price\n",
        "    print(f\"{ticker} updated to new price {new_price}\")\n",
        "  else:\n",
        "    print(f\"{ticker} not found in portfolio\")\n",
        "\n"
      ],
      "metadata": {
        "id": "wgQcj0AE4WaC"
      },
      "execution_count": 11,
      "outputs": []
    },
    {
      "cell_type": "markdown",
      "source": [
        "wrap it up all in once script\n"
      ],
      "metadata": {
        "id": "zA9GPXPh5YBJ"
      }
    },
    {
      "cell_type": "code",
      "source": [
        "def show_portfolio_summary():\n",
        "  total_value = sum(portfolio.values())\n",
        "  top_stock = max(portfolio,key = portfolio.get)\n",
        "  high_value_stock = [ticker for ticker in portfolio if portfolio[ticker]>1000]\n",
        "  print(f\"\\nPortfolio Summary\")\n",
        "  print(f\"Total value of the portfolio :\" ,round(total_value,2))\n",
        "  print(f\"Top performing stock :\",top_stock )\n",
        "  print(f\"High value stocks :\",high_value_stock)\n",
        "\n",
        "\n",
        "show_portfolio_summary()\n",
        "stock_price_update('infy',1200)\n",
        "show_portfolio_summary()\n"
      ],
      "metadata": {
        "colab": {
          "base_uri": "https://localhost:8080/"
        },
        "id": "AawxihPE5ecj",
        "outputId": "b390e967-cf8c-4081-bc74-3c536d2e64a8"
      },
      "execution_count": 12,
      "outputs": [
        {
          "output_type": "stream",
          "name": "stdout",
          "text": [
            "\n",
            "Portfolio Summary\n",
            "Total value of the portfolio : 5322.56\n",
            "Top performing stock : goog\n",
            "High value stocks : ['goog', 'infy']\n",
            "infy updated to new price 1200\n"
          ]
        }
      ]
    },
    {
      "cell_type": "code",
      "source": [
        "portfolio     = {\n",
        "\n",
        "                     'aapl': {'price': 170.5,'qty' :10},\n",
        "                     'goog': {'price': 1930.5,'qty' :7},\n",
        "                     'tsla': {'price': 1400.5,'qty' :9},\n",
        "                     'infy': {'price': 1209.5,'qty' :120}\n",
        "}\n",
        "\n"
      ],
      "metadata": {
        "id": "4-bHGeuxTdsf"
      },
      "execution_count": 3,
      "outputs": []
    },
    {
      "cell_type": "code",
      "source": [
        "def get_total_value(portfolio):\n",
        "  return round(sum(ticker['price']*ticker['qty'] for ticker in portfolio.values()),2)\n",
        "\n",
        "def get_top_stock(portfolio):\n",
        "  return max(portfolio , key = lambda ticker : portfolio[ticker]['price'])\n",
        "\n",
        "def filter_high_value_stocks(portfolio):\n",
        "  return [t for t in portfolio if portfolio[t]['price']>1000]\n",
        "\n",
        "total_value_sum = get_total_value(portfolio)\n",
        "print(f\"Total value of the portfolio :\" ,total_value_sum)\n",
        "\n",
        "top_stock = get_top_stock(portfolio)\n",
        "print(f\"Top performing stock :\",top_stock )\n",
        "\n",
        "high_value_stock = filter_high_value_stocks(portfolio)\n",
        "print(f\"High value stocks :\",high_value_stock)"
      ],
      "metadata": {
        "colab": {
          "base_uri": "https://localhost:8080/"
        },
        "id": "LzZGYlShV4g8",
        "outputId": "33119f5a-6f00-489b-9408-a7e7db4f971f"
      },
      "execution_count": 36,
      "outputs": [
        {
          "output_type": "stream",
          "name": "stdout",
          "text": [
            "Total value of the portfolio : 172963.0\n",
            "Top performing stock : goog\n",
            "High value stocks : ['goog', 'tsla', 'infy']\n"
          ]
        }
      ]
    },
    {
      "cell_type": "code",
      "source": [
        "#let's add currency conversio\n",
        "\n",
        "def convert_currency(amount_inr,rate):\n",
        "  return round(amount_inr*rate,2)\n",
        "\n",
        "a = convert_currency(1000,0.23)\n",
        "\n",
        "print(f\"value in usd,\",a)"
      ],
      "metadata": {
        "colab": {
          "base_uri": "https://localhost:8080/"
        },
        "id": "svyLnmqnbpfZ",
        "outputId": "1371ac40-39a1-4d6e-bbd8-b23ff5e9e47b"
      },
      "execution_count": 19,
      "outputs": [
        {
          "output_type": "stream",
          "name": "stdout",
          "text": [
            "value in usd, 230.0\n"
          ]
        }
      ]
    },
    {
      "cell_type": "code",
      "source": [
        "usd_rate = 0.012 #INR to USD\n",
        "eur_rate = 0.011 #INR to EUR\n",
        "\n",
        "total_inr = get_total_value(portfolio)\n",
        "total_usd = convert_currency(total_inr,usd_rate)\n",
        "total_eur = convert_currency(total_inr,eur_rate)\n",
        "\n",
        "print(f\"Total value of the portfolio in INR :\" ,total_inr)\n",
        "print(f\"Total value of the portfolio in USD :\" ,total_usd)\n",
        "print(f\"Total value of the portfolio in EUR :\" ,total_eur)"
      ],
      "metadata": {
        "colab": {
          "base_uri": "https://localhost:8080/"
        },
        "id": "D4ioaiX2crDW",
        "outputId": "2c40b0f9-ca3e-4af3-82d5-4b18d08376d6"
      },
      "execution_count": 26,
      "outputs": [
        {
          "output_type": "stream",
          "name": "stdout",
          "text": [
            "Total value of the portfolio in INR : 172963.0\n",
            "Total value of the portfolio in USD : 2075.56\n",
            "Total value of the portfolio in EUR : 1902.59\n"
          ]
        }
      ]
    },
    {
      "cell_type": "code",
      "source": [
        "def show_summary(portfolio,usd_rate,eur_rate):\n",
        "  print(f\"\\nPortfolio Summary\")\n",
        "  total_inr = get_total_value(portfolio)\n",
        "  print(f\"Total value of the portfolio in INR :\" ,total_inr)\n",
        "  print (f\"Total value of the portfolio in INR: ${convert_currency(total_inr,usd_rate)}\")\n",
        "  print (f\"Total value of the portfolio in INR: e{convert_currency(total_inr,eur_rate)}\")\n",
        "  top_stock = get_top_stock(portfolio)\n",
        "  print(f\"Top performing stock :\",top_stock )\n",
        "  high_value_stock = filter_high_value_stocks(portfolio)\n",
        "  print(f\"High value stocks :\",high_value_stock)\n",
        "\n",
        "\n",
        "\n",
        "show_summary(portfolio,usd_rate,eur_rate)"
      ],
      "metadata": {
        "colab": {
          "base_uri": "https://localhost:8080/"
        },
        "id": "_HSY5J9Fepx1",
        "outputId": "5c1f55c5-55c8-4ccf-ee2f-5ed30109da1f"
      },
      "execution_count": 37,
      "outputs": [
        {
          "output_type": "stream",
          "name": "stdout",
          "text": [
            "\n",
            "Portfolio Summary\n",
            "Total value of the portfolio in INR : 172963.0\n",
            "Total value of the portfolio in INR: $2075.56\n",
            "Total value of the portfolio in INR: e1902.59\n",
            "Top performing stock : goog\n",
            "High value stocks : ['goog', 'tsla', 'infy']\n"
          ]
        }
      ]
    }
  ]
}