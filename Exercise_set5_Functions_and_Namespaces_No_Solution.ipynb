{
  "cells": [
    {
      "cell_type": "markdown",
      "metadata": {
        "id": "lr3h44r_vqiN"
      },
      "source": [
        "<div class=\"alert\" style=\"background-color:#fff; color:white; padding:0px 10px; border-radius:5px;\"><h1 style='margin:15px 15px; color:#006a79; font-size:40px; text-align:center'>Exercises - Set 5: Functions and Namespaces</h1>\n",
        "</div>\n",
        "\n",
        "__<p style='text-align:center'>Copyright (©) Machine Learning Plus. All Rights Reserved.</p>__"
      ]
    },
    {
      "cell_type": "markdown",
      "metadata": {
        "id": "tfsLu4HuvqiR"
      },
      "source": [
        "### Exercise 1: Understanding `==` vs. `is`\n",
        "\n",
        "**Question:**\n",
        "Write a function called `compare_objects(obj1, obj2)` that compares two objects. It should return a dictionary containing:\n",
        "- `are_equal`: True if `obj1` and `obj2` are equal (`==`), otherwise False.\n",
        "- `are_identical`: True if `obj1` and `obj2` are identical (`is`), otherwise False.\n",
        "\n",
        "**Input:**\n",
        "```python\n",
        "compare_objects([1], [1])\n",
        "```\n",
        "\n",
        "**Expected Output:**\n",
        "```python\n",
        "{'are_equal': True, 'are_identical': False}\n",
        "```\n"
      ]
    },
    {
      "cell_type": "code",
      "execution_count": null,
      "metadata": {
        "id": "hf0TvFe3vqiS"
      },
      "outputs": [],
      "source": [
        "# Write your solution here.."
      ]
    },
    {
      "cell_type": "code",
      "execution_count": null,
      "metadata": {
        "id": "tfoMGB90vqiT"
      },
      "outputs": [],
      "source": []
    },
    {
      "cell_type": "markdown",
      "metadata": {
        "id": "Y_kXaYFivqiT"
      },
      "source": [
        "\n",
        "---\n",
        "\n",
        "### Exercise 2: Local and Global Namespace\n",
        "\n",
        "**Question:**\n",
        "Create a function `counter()` that maintains a global counter variable. The function should:\n",
        "- Increment the counter each time it is called.\n",
        "- Return the current count.\n",
        "- Ensure that the counter variable is accessible globally.\n",
        "\n",
        "**Input:**\n",
        "```python\n",
        "count = 0\n",
        "counter()\n",
        "counter()\n",
        "counter()\n",
        "```\n",
        "\n",
        "**Expected Output:**\n",
        "```python\n",
        "1\n",
        "2\n",
        "3\n",
        "```\n"
      ]
    },
    {
      "cell_type": "code",
      "execution_count": null,
      "metadata": {
        "id": "sAeDSZ2WvqiT"
      },
      "outputs": [],
      "source": [
        "# Write your solution here.."
      ]
    },
    {
      "cell_type": "code",
      "execution_count": null,
      "metadata": {
        "id": "erdG5z0ovqiU"
      },
      "outputs": [],
      "source": []
    },
    {
      "cell_type": "markdown",
      "metadata": {
        "id": "8zjxZXdNvqiU"
      },
      "source": [
        "\n",
        "---\n",
        "\n",
        "\n",
        "\n",
        "### Exercise 3: Local vs. Global Namespace 2\n",
        "\n",
        "**Question:**\n",
        "Implement a function `set_global_variable(value)` that sets a global variable `global_var`. Also, create a function `get_global_variable()` that returns the value of this global variable. Show how the global variable is updated.\n",
        "\n",
        "**Input:**\n",
        "```python\n",
        "global_var = None\n",
        "set_global_variable(10)\n",
        "get_global_variable()\n",
        "```\n",
        "\n",
        "**Expected Output:**\n",
        "```python\n",
        "10\n",
        "```\n"
      ]
    },
    {
      "cell_type": "code",
      "execution_count": null,
      "metadata": {
        "id": "T0aoyN90vqiU"
      },
      "outputs": [],
      "source": [
        "# Write your solution here.."
      ]
    },
    {
      "cell_type": "code",
      "execution_count": null,
      "metadata": {
        "id": "XX7FLWa7vqiU"
      },
      "outputs": [],
      "source": []
    }
  ],
  "metadata": {
    "kernelspec": {
      "display_name": "Python 3",
      "language": "python",
      "name": "python3"
    },
    "language_info": {
      "codemirror_mode": {
        "name": "ipython",
        "version": 3
      },
      "file_extension": ".py",
      "mimetype": "text/x-python",
      "name": "python",
      "nbconvert_exporter": "python",
      "pygments_lexer": "ipython3",
      "version": "3.11.0"
    },
    "colab": {
      "provenance": []
    }
  },
  "nbformat": 4,
  "nbformat_minor": 0
}